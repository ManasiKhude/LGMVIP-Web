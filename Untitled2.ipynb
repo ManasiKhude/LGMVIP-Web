{
  "nbformat": 4,
  "nbformat_minor": 0,
  "metadata": {
    "colab": {
      "provenance": [],
      "authorship_tag": "ABX9TyNL3YS0VnCRrEH10OSQaLEj",
      "include_colab_link": true
    },
    "kernelspec": {
      "name": "python3",
      "display_name": "Python 3"
    },
    "language_info": {
      "name": "python"
    }
  },
  "cells": [
    {
      "cell_type": "markdown",
      "metadata": {
        "id": "view-in-github",
        "colab_type": "text"
      },
      "source": [
        "<a href=\"https://colab.research.google.com/github/ManasiKhude/LGMVIP-Web/blob/main/Untitled2.ipynb\" target=\"_parent\"><img src=\"https://colab.research.google.com/assets/colab-badge.svg\" alt=\"Open In Colab\"/></a>"
      ]
    },
    {
      "cell_type": "code",
      "execution_count": null,
      "metadata": {
        "id": "Nra4iSmGdv7w"
      },
      "outputs": [],
      "source": []
    },
    {
      "cell_type": "code",
      "source": [
        "def levenshtein_distance(str1, str2):\n",
        "    # Initialize matrix of size (len(str1) + 1) x (len(str2) + 1)\n",
        "    m, n = len(str1), len(str2)\n",
        "    dp = [[0] * (n + 1) for _ in range(m + 1)]\n",
        "\n",
        "    # Fill the first row and first column\n",
        "    for i in range(m + 1):\n",
        "        dp[i][0] = i  # Cost of deleting all characters of str1\n",
        "    for j in range(n + 1):\n",
        "        dp[0][j] = j  # Cost of adding all characters of str2\n",
        "\n",
        "    # Fill the rest of the matrix\n",
        "    for i in range(1, m + 1):\n",
        "        for j in range(1, n + 1):\n",
        "            if str1[i - 1] == str2[j - 1]:\n",
        "                cost = 0  # No cost if characters match\n",
        "            else:\n",
        "                cost = 1  # Cost of substitution\n",
        "\n",
        "            dp[i][j] = min(dp[i - 1][j] + 1,      # Deletion\n",
        "                           dp[i][j - 1] + 1,      # Insertion\n",
        "                           dp[i - 1][j - 1] + cost)  # Substitution\n",
        "\n",
        "    # The Levenshtein distance is in the bottom-right corner of the matrix\n",
        "    return dp[m][n]\n",
        "\n",
        "# Example usage:\n",
        "str1 = \"Arranging\"\n",
        "str2 = \"Flipping\"\n",
        "print(f\"Levenshtein distance between {str1} and {str2}: {levenshtein_distance(str1, str2)}\")\n"
      ],
      "metadata": {
        "colab": {
          "base_uri": "https://localhost:8080/"
        },
        "id": "vw6z8LM_d03w",
        "outputId": "ceba2b28-4b6c-4bbb-ecc7-f23fbcfb90e3"
      },
      "execution_count": 6,
      "outputs": [
        {
          "output_type": "stream",
          "name": "stdout",
          "text": [
            "Levenshtein distance between Arranging and Flipping: 6\n"
          ]
        }
      ]
    },
    {
      "cell_type": "code",
      "source": [
        "# Importing the necessary library from NLTK\n",
        "from nltk.stem import PorterStemmer\n",
        "from nltk.tokenize import word_tokenize\n",
        "\n",
        "# Initialize the Porter Stemmer\n",
        "porter_stemmer = PorterStemmer()\n",
        "\n",
        "# Sample words for stemming\n",
        "words = [\"dancing\", \"dancer\", \"dance\", \"wisely\", \"precisely\", \"organization\", \"computational\", \"authorized\", \"summation\"]\n",
        "\n",
        "# Applying Porter Stemmer to each word\n",
        "porter_stemmed_words = [porter_stemmer.stem(word) for word in words]\n",
        "\n",
        "# Displaying the original words and their stemmed versions\n",
        "for word, stemmed_word in zip(words, porter_stemmed_words):\n",
        "    print(f\"Original: {word}, Stemmed: {stemmed_word}\")\n"
      ],
      "metadata": {
        "colab": {
          "base_uri": "https://localhost:8080/"
        },
        "id": "4G-aEstvltLR",
        "outputId": "cc5acbbd-8d34-4b95-bb47-4cec2716421d"
      },
      "execution_count": 22,
      "outputs": [
        {
          "output_type": "stream",
          "name": "stdout",
          "text": [
            "Original: dancing, Stemmed: danc\n",
            "Original: dancer, Stemmed: dancer\n",
            "Original: dance, Stemmed: danc\n",
            "Original: wisely, Stemmed: wise\n",
            "Original: precisely, Stemmed: precis\n",
            "Original: organization, Stemmed: organ\n",
            "Original: computational, Stemmed: comput\n",
            "Original: authorized, Stemmed: author\n",
            "Original: summation, Stemmed: summat\n"
          ]
        }
      ]
    },
    {
      "cell_type": "code",
      "source": [
        "from stemming.lovins import stem as  lovins_stemmer\n",
        "lovins_stemmer(\"factionally\")"
      ],
      "metadata": {
        "colab": {
          "base_uri": "https://localhost:8080/",
          "height": 35
        },
        "id": "98To5VKDoxKZ",
        "outputId": "defec959-96bf-48e1-8340-77e90dab72b6"
      },
      "execution_count": 25,
      "outputs": [
        {
          "output_type": "execute_result",
          "data": {
            "text/plain": [
              "'fact'"
            ],
            "application/vnd.google.colaboratory.intrinsic+json": {
              "type": "string"
            }
          },
          "metadata": {},
          "execution_count": 25
        }
      ]
    },
    {
      "cell_type": "code",
      "source": [
        "!pip install stemming\n",
        "from stemming.lovins import stem as lovins_stemmer\n",
        "lovins_stemmer(\"factionally\")"
      ],
      "metadata": {
        "colab": {
          "base_uri": "https://localhost:8080/",
          "height": 229
        },
        "id": "e7syhzJnpKWj",
        "outputId": "76672e93-4051-43d4-abd8-294a5afee025"
      },
      "execution_count": 10,
      "outputs": [
        {
          "output_type": "stream",
          "name": "stdout",
          "text": [
            "Collecting stemming\n",
            "  Downloading stemming-1.0.1.zip (13 kB)\n",
            "  Preparing metadata (setup.py) ... \u001b[?25l\u001b[?25hdone\n",
            "Building wheels for collected packages: stemming\n",
            "  Building wheel for stemming (setup.py) ... \u001b[?25l\u001b[?25hdone\n",
            "  Created wheel for stemming: filename=stemming-1.0.1-py3-none-any.whl size=11123 sha256=29fea9ccd5e7bf8d70e4c94c258a7ae14dbba200b25c3eade6a199a4ad0bbe03\n",
            "  Stored in directory: /root/.cache/pip/wheels/c5/f9/3f/8fe1ec182ce66145d7ded39bad9a690960469dc350fbec0181\n",
            "Successfully built stemming\n",
            "Installing collected packages: stemming\n",
            "Successfully installed stemming-1.0.1\n"
          ]
        },
        {
          "output_type": "execute_result",
          "data": {
            "text/plain": [
              "'fact'"
            ],
            "application/vnd.google.colaboratory.intrinsic+json": {
              "type": "string"
            }
          },
          "metadata": {},
          "execution_count": 10
        }
      ]
    },
    {
      "cell_type": "code",
      "source": [
        "!pip install stemming # Install the stemming package\n",
        "import Stemmer # Importing the necessary library for Lovins Stemmer\n",
        "from stemming.lovins import stem as lovins_stemmer # Correctly import lovins stemmer"
      ],
      "metadata": {
        "colab": {
          "base_uri": "https://localhost:8080/"
        },
        "id": "LrLrTO99qHSp",
        "outputId": "7fad0a2b-3203-4f3e-873a-1c79e69ea2d5"
      },
      "execution_count": 13,
      "outputs": [
        {
          "output_type": "stream",
          "name": "stdout",
          "text": [
            "Requirement already satisfied: stemming in /usr/local/lib/python3.10/dist-packages (1.0.1)\n"
          ]
        }
      ]
    },
    {
      "cell_type": "code",
      "source": [
        "# Sample words for stemming\n",
        "words = [\"running\", \"runner\", \"ran\", \"easily\", \"fairly\", \"consolidation\", \"relational\", \"computerized\", \"organization\"]\n",
        "\n",
        "# Applying Lovins Stemmer to each word\n",
        "# Now we can use lovins_stemmer correctly\n",
        "lovins_stemmed_words = [lovins_stemmer(word) for word in words]\n",
        "\n",
        "# Displaying the original words and their stemmed versions\n",
        "for word, stemmed_word in zip(words, lovins_stemmed_words):\n",
        "    print(f\"Original: {word}, Stemmed: {stemmed_word}\")"
      ],
      "metadata": {
        "colab": {
          "base_uri": "https://localhost:8080/"
        },
        "id": "EPoYIUAoqZNL",
        "outputId": "24300752-d74a-48ce-ac07-381d5a62ea70"
      },
      "execution_count": 14,
      "outputs": [
        {
          "output_type": "stream",
          "name": "stdout",
          "text": [
            "Original: running, Stemmed: run\n",
            "Original: runner, Stemmed: runner\n",
            "Original: ran, Stemmed: ran\n",
            "Original: easily, Stemmed: eas\n",
            "Original: fairly, Stemmed: fair\n",
            "Original: consolidation, Stemmed: consolis\n",
            "Original: relational, Stemmed: rel\n",
            "Original: computerized, Stemmed: computer\n",
            "Original: organization, Stemmed: organ\n"
          ]
        }
      ]
    },
    {
      "cell_type": "code",
      "source": [
        "from stemming.lovins import stem as lovins_stemmer\n",
        "\n",
        "# Sample words for stemming\n",
        "words = [\"running\", \"runner\", \"ran\", \"easily\", \"fairly\", \"consolidation\", \"relational\", \"computerized\", \"organization\"]\n",
        "\n",
        "# Applying Lovins Stemmer to each word using a loop\n",
        "lovins_stemmed_words = [lovins_stemmer(word) for word in words]\n",
        "\n",
        "# Displaying the original words and their stemmed versions\n",
        "for word, stemmed_word in zip(words, lovins_stemmed_words):\n",
        "    print(f\"Original: {word}, Stemmed: {stemmed_word}\")"
      ],
      "metadata": {
        "colab": {
          "base_uri": "https://localhost:8080/"
        },
        "id": "EEXOOSIirg97",
        "outputId": "28faeb35-fd96-4f8d-f5a3-a5f9efc8676a"
      },
      "execution_count": 16,
      "outputs": [
        {
          "output_type": "stream",
          "name": "stdout",
          "text": [
            "Original: running, Stemmed: run\n",
            "Original: runner, Stemmed: runner\n",
            "Original: ran, Stemmed: ran\n",
            "Original: easily, Stemmed: eas\n",
            "Original: fairly, Stemmed: fair\n",
            "Original: consolidation, Stemmed: consolis\n",
            "Original: relational, Stemmed: rel\n",
            "Original: computerized, Stemmed: computer\n",
            "Original: organization, Stemmed: organ\n"
          ]
        }
      ]
    },
    {
      "cell_type": "code",
      "source": [
        "# Importing the necessary library for Lovins Stemmer\n",
        "import Stemmer\n",
        "\n",
        "# Initialize the Lovins Stemmer\n",
        "lovins_stemmer = Stemmer.Stemmer('lovins')\n",
        "\n",
        "# Sample words for stemming\n",
        "words = [\"running\", \"runner\", \"ran\", \"easily\", \"fairly\", \"consolidation\", \"relational\", \"computerized\", \"organization\"]\n",
        "\n",
        "# Applying Lovins Stemmer to each word\n",
        "lovins_stemmed_words = [lovins_stemmer.stemWord(word) for word in words]\n",
        "\n",
        "# Displaying the original words and their stemmed versions\n",
        "for word, stemmed_word in zip(words, lovins_stemmed_words):\n",
        "    print(f\"Original: {word}, Stemmed: {stemmed_word}\")\n"
      ],
      "metadata": {
        "colab": {
          "base_uri": "https://localhost:8080/",
          "height": 245
        },
        "id": "zX3ajdN0sY36",
        "outputId": "2907b65a-cc79-4b11-d92d-a2dd78af62ec"
      },
      "execution_count": 17,
      "outputs": [
        {
          "output_type": "error",
          "ename": "KeyError",
          "evalue": "\"Stemming algorithm 'lovins' not found\"",
          "traceback": [
            "\u001b[0;31m---------------------------------------------------------------------------\u001b[0m",
            "\u001b[0;31mKeyError\u001b[0m                                  Traceback (most recent call last)",
            "\u001b[0;32m<ipython-input-17-7f04d8c1c1c4>\u001b[0m in \u001b[0;36m<cell line: 5>\u001b[0;34m()\u001b[0m\n\u001b[1;32m      3\u001b[0m \u001b[0;34m\u001b[0m\u001b[0m\n\u001b[1;32m      4\u001b[0m \u001b[0;31m# Initialize the Lovins Stemmer\u001b[0m\u001b[0;34m\u001b[0m\u001b[0;34m\u001b[0m\u001b[0m\n\u001b[0;32m----> 5\u001b[0;31m \u001b[0mlovins_stemmer\u001b[0m \u001b[0;34m=\u001b[0m \u001b[0mStemmer\u001b[0m\u001b[0;34m.\u001b[0m\u001b[0mStemmer\u001b[0m\u001b[0;34m(\u001b[0m\u001b[0;34m'lovins'\u001b[0m\u001b[0;34m)\u001b[0m\u001b[0;34m\u001b[0m\u001b[0;34m\u001b[0m\u001b[0m\n\u001b[0m\u001b[1;32m      6\u001b[0m \u001b[0;34m\u001b[0m\u001b[0m\n\u001b[1;32m      7\u001b[0m \u001b[0;31m# Sample words for stemming\u001b[0m\u001b[0;34m\u001b[0m\u001b[0;34m\u001b[0m\u001b[0m\n",
            "\u001b[0;32msrc/Stemmer.pyx\u001b[0m in \u001b[0;36mStemmer.Stemmer.__init__\u001b[0;34m()\u001b[0m\n",
            "\u001b[0;31mKeyError\u001b[0m: \"Stemming algorithm 'lovins' not found\""
          ]
        }
      ]
    },
    {
      "cell_type": "code",
      "source": [
        "# Sample words for stemming\n",
        "words = [\"running\", \"runner\", \"ran\", \"easily\", \"fairly\", \"consolidation\", \"relational\", \"computerized\", \"organization\"]\n",
        "\n",
        "# Applying Lovins Stemmer to each word\n",
        "from stemming.lovins import stem as lovins_stemmer\n",
        "lovins_stemmed_words = [lovins_stemmer(word) for word in words]\n",
        "\n",
        "# Displaying the original words and their stemmed versions\n",
        "for word, stemmed_word in zip(words, lovins_stemmed_words):\n",
        "    print(f\"Original: {word}, Stemmed: {stemmed_word}\")"
      ],
      "metadata": {
        "colab": {
          "base_uri": "https://localhost:8080/"
        },
        "id": "cQhlnU12s1n2",
        "outputId": "9932b523-f059-41cd-cf5b-a57fb7e6a33c"
      },
      "execution_count": 18,
      "outputs": [
        {
          "output_type": "stream",
          "name": "stdout",
          "text": [
            "Original: running, Stemmed: run\n",
            "Original: runner, Stemmed: runner\n",
            "Original: ran, Stemmed: ran\n",
            "Original: easily, Stemmed: eas\n",
            "Original: fairly, Stemmed: fair\n",
            "Original: consolidation, Stemmed: consolis\n",
            "Original: relational, Stemmed: rel\n",
            "Original: computerized, Stemmed: computer\n",
            "Original: organization, Stemmed: organ\n"
          ]
        }
      ]
    },
    {
      "cell_type": "code",
      "source": [
        "from stemming.lovins import stem as lovins_stemmer\n",
        "\n",
        "# Sample words for stemming\n",
        "words = [\"cooking\", \"cookery\", \"cook\", \"wisely\", \"precisely\", \"organization\", \"computational\", \"authorized\", \"summation\"]\n",
        "\n",
        "# Applying Lovins Stemmer to each word using a loop\n",
        "lovins_stemmed_words = [lovins_stemmer(word) for word in words]\n",
        "\n",
        "# Displaying the original words and their stemmed versions\n",
        "for word, stemmed_word in zip(words, lovins_stemmed_words):\n",
        "    print(f\"Original: {word}, Stemmed: {stemmed_word}\")"
      ],
      "metadata": {
        "colab": {
          "base_uri": "https://localhost:8080/"
        },
        "id": "42HlmmjguhqZ",
        "outputId": "13dca3c7-8037-4f15-d701-f344635df885"
      },
      "execution_count": 20,
      "outputs": [
        {
          "output_type": "stream",
          "name": "stdout",
          "text": [
            "Original: cooking, Stemmed: cook\n",
            "Original: cookery, Stemmed: cook\n",
            "Original: cook, Stemmed: cook\n",
            "Original: wisely, Stemmed: wis\n",
            "Original: precisely, Stemmed: precis\n",
            "Original: organization, Stemmed: organ\n",
            "Original: computational, Stemmed: comput\n",
            "Original: authorized, Stemmed: author\n",
            "Original: summation, Stemmed: sum\n"
          ]
        }
      ]
    },
    {
      "cell_type": "code",
      "source": [
        "# # Levenshtein Edit Distance\n",
        "\n",
        "# In[1]:\n",
        "\n",
        "\n",
        "def levenshtein_distance(str1, str2):\n",
        "    # Initialize matrix of size (len(str1) + 1) x (len(str2) + 1)\n",
        "    m, n = len(str1), len(str2)\n",
        "    dp = [[0] * (n + 1) for _ in range(m + 1)]\n",
        "\n",
        "    # Fill the first row and first column\n",
        "    for i in range(m + 1):\n",
        "        dp[i][0] = i  # Cost of deleting all characters of str1\n",
        "    for j in range(n + 1):\n",
        "        dp[0][j] = j  # Cost of adding all characters of str2\n",
        "\n",
        "    # Fill the rest of the matrix\n",
        "    for i in range(1, m + 1):\n",
        "        for j in range(1, n + 1):\n",
        "            if str1[i - 1] == str2[j - 1]:\n",
        "                cost = 0  # No cost if characters match\n",
        "            else:\n",
        "                cost = 1  # Cost of substitution\n",
        "\n",
        "            dp[i][j] = min(dp[i - 1][j] + 1,      # Deletion\n",
        "                           dp[i][j - 1] + 1,      # Insertion\n",
        "                           dp[i - 1][j - 1] + cost)  # Substitution\n",
        "\n",
        "    # The Levenshtein distance is in the bottom-right corner of the matrix\n",
        "    return dp[m][n]\n",
        "\n",
        "# Example usage:\n",
        "str1 = \"arranging\"\n",
        "str2 = \"flipping\"\n",
        "print(f\"Levenshtein distance between {str1} and {str2}: {levenshtein_distance(str1, str2)}\")"
      ],
      "metadata": {
        "colab": {
          "base_uri": "https://localhost:8080/"
        },
        "id": "nfP-gGeryUNn",
        "outputId": "f4bffcef-4263-4796-a2a6-f4c32dee2802"
      },
      "execution_count": 21,
      "outputs": [
        {
          "output_type": "stream",
          "name": "stdout",
          "text": [
            "Levenshtein distance between arranging and flipping: 6\n"
          ]
        }
      ]
    }
  ]
}